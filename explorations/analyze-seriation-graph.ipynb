{
 "metadata": {
  "name": "",
  "signature": "sha256:fa1339f2d8cbfe9f540aaea9f8cfb00e4beba83914f5ec95f84da7d68bf47abc"
 },
 "nbformat": 3,
 "nbformat_minor": 0,
 "worksheets": [
  {
   "cells": [
    {
     "cell_type": "code",
     "collapsed": false,
     "input": [
      "import networkx as nx\n",
      "import numpy as np\n",
      "import matplotlib.pyplot as plt"
     ],
     "language": "python",
     "metadata": {},
     "outputs": [],
     "prompt_number": 11
    },
    {
     "cell_type": "code",
     "collapsed": false,
     "input": [
      "file = \"/Users/mark/seriationct/seriations/seriationct-1/results/23d2out/23d2f6f2-ce8e-11e4-93cb-b8f6b1154c9b-0-minmax-by-weight.png.gml\""
     ],
     "language": "python",
     "metadata": {},
     "outputs": [],
     "prompt_number": 2
    },
    {
     "cell_type": "code",
     "collapsed": false,
     "input": [
      "g = nx.read_gml(file)"
     ],
     "language": "python",
     "metadata": {},
     "outputs": [],
     "prompt_number": 3
    },
    {
     "cell_type": "code",
     "collapsed": false,
     "input": [
      "%matplotlib inline"
     ],
     "language": "python",
     "metadata": {},
     "outputs": [],
     "prompt_number": 12
    },
    {
     "cell_type": "code",
     "collapsed": false,
     "input": [
      "mean_degree = np.mean(g.degree().values())\n",
      "stddev_degree = np.std(g.degree().values())\n",
      "print \"mean degree: %s stddev: %s\" % (mean_degree, stddev_degree)"
     ],
     "language": "python",
     "metadata": {},
     "outputs": [
      {
       "output_type": "stream",
       "stream": "stdout",
       "text": [
        "mean degree: 2.0 stddev: 0.632455532034\n"
       ]
      }
     ],
     "prompt_number": 14
    },
    {
     "cell_type": "code",
     "collapsed": false,
     "input": [
      "nx.diameter(g)"
     ],
     "language": "python",
     "metadata": {},
     "outputs": [
      {
       "metadata": {},
       "output_type": "pyout",
       "prompt_number": 17,
       "text": [
        "34"
       ]
      }
     ],
     "prompt_number": 17
    },
    {
     "cell_type": "code",
     "collapsed": false,
     "input": [
      "nx.degree_histogram(g)"
     ],
     "language": "python",
     "metadata": {},
     "outputs": [
      {
       "metadata": {},
       "output_type": "pyout",
       "prompt_number": 21,
       "text": [
        "[0, 10, 36, 8, 1]"
       ]
      }
     ],
     "prompt_number": 21
    },
    {
     "cell_type": "code",
     "collapsed": false,
     "input": [
      "dist_file = \"/Users/mark/seriationct/seriations/seriationct-1/results/c896638e-cc06-11e4-8260-b8f6b1154c9b-3/c896638e-cc06-11e4-8260-b8f6b1154c9b-3-minmax-by-weight.png.gml\"\n",
      "gd = nx.read_gml(dist_file)"
     ],
     "language": "python",
     "metadata": {},
     "outputs": [],
     "prompt_number": 22
    },
    {
     "cell_type": "code",
     "collapsed": false,
     "input": [
      "mean_degree = np.mean(gd.degree().values())\n",
      "stddev_degree = np.std(gd.degree().values())\n",
      "print \"mean degree: %s stddev: %s\" % (mean_degree, stddev_degree)"
     ],
     "language": "python",
     "metadata": {},
     "outputs": [
      {
       "output_type": "stream",
       "stream": "stdout",
       "text": [
        "mean degree: 1.90909090909 stddev: 0.792527080644\n"
       ]
      }
     ],
     "prompt_number": 23
    },
    {
     "cell_type": "code",
     "collapsed": false,
     "input": [
      "nx.degree_histogram(gd)"
     ],
     "language": "python",
     "metadata": {},
     "outputs": [
      {
       "metadata": {},
       "output_type": "pyout",
       "prompt_number": 24,
       "text": [
        "[0, 7, 11, 3, 1]"
       ]
      }
     ],
     "prompt_number": 24
    },
    {
     "cell_type": "code",
     "collapsed": false,
     "input": [
      "pfg_file = \"/Users/mark/src/lipomadsen2015-idss-seriation-paper/seriation-analysis/output/pfg-cpl-minmax-by-weight.png.gml\"\n",
      "gp = nx.read_gml(pfg_file)"
     ],
     "language": "python",
     "metadata": {},
     "outputs": [],
     "prompt_number": 25
    },
    {
     "cell_type": "code",
     "collapsed": false,
     "input": [
      "mean_degree = np.mean(gp.degree().values())\n",
      "stddev_degree = np.std(gp.degree().values())\n",
      "print \"mean degree: %s stddev: %s\" % (mean_degree, stddev_degree)"
     ],
     "language": "python",
     "metadata": {},
     "outputs": [
      {
       "output_type": "stream",
       "stream": "stdout",
       "text": [
        "mean degree: 1.9 stddev: 0.888819441732\n"
       ]
      }
     ],
     "prompt_number": 26
    },
    {
     "cell_type": "code",
     "collapsed": false,
     "input": [
      "nx.degree_histogram(gp)"
     ],
     "language": "python",
     "metadata": {},
     "outputs": [
      {
       "metadata": {},
       "output_type": "pyout",
       "prompt_number": 27,
       "text": [
        "[0, 7, 10, 1, 2]"
       ]
      }
     ],
     "prompt_number": 27
    },
    {
     "cell_type": "code",
     "collapsed": false,
     "input": [],
     "language": "python",
     "metadata": {},
     "outputs": []
    }
   ],
   "metadata": {}
  }
 ]
}