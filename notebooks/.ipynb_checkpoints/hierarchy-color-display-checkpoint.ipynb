{
 "metadata": {
  "name": "",
  "signature": "sha256:b65ef1c0d806e59a796f73f8a129cd306cb25978e480b63043b0fbca2d3278a3"
 },
 "nbformat": 3,
 "nbformat_minor": 0,
 "worksheets": [
  {
   "cells": [
    {
     "cell_type": "code",
     "collapsed": false,
     "input": [
      "import networkx as nx\n",
      "from networkx.utils import open_file, make_str\n"
     ],
     "language": "python",
     "metadata": {},
     "outputs": [],
     "prompt_number": 16
    },
    {
     "cell_type": "code",
     "collapsed": false,
     "input": [
      "%matplotlib inline"
     ],
     "language": "python",
     "metadata": {},
     "outputs": [],
     "prompt_number": 2
    },
    {
     "cell_type": "code",
     "collapsed": false,
     "input": [
      "file = '/Users/mark/seriationct/experiments/seriationct-7/seriation-results/a7eb7f58-d34e-11e4-93bf-b8f6b1154c9b-0-sampled-0.1/a7eb7f58-d34e-11e4-93bf-b8f6b1154c9b-0-sampled-0.1-minmax-by-weight.png-annotated.gml'"
     ],
     "language": "python",
     "metadata": {},
     "outputs": [],
     "prompt_number": 3
    },
    {
     "cell_type": "code",
     "collapsed": false,
     "input": [
      "g = nx.read_gml(file)"
     ],
     "language": "python",
     "metadata": {},
     "outputs": [],
     "prompt_number": 114
    },
    {
     "cell_type": "code",
     "collapsed": false,
     "input": [
      "nx.draw(g, pos=nx.spring_layout(g))"
     ],
     "language": "python",
     "metadata": {},
     "outputs": [
      {
       "metadata": {},
       "output_type": "display_data",
       "png": "[encoded data removed]",
       "text": [
        "<matplotlib.figure.Figure at 0x10a131310>"
       ]
      }
     ],
     "prompt_number": 28
    },
    {
     "cell_type": "code",
     "collapsed": false,
     "input": [
      "\n",
      "\n",
      "def write_ordered_dot(N,path,name=None):\n",
      "    \"\"\"Write NetworkX graph G to Graphviz dot format on path.\n",
      "\n",
      "    Path can be a string or a file handle.\n",
      "    \"\"\"\n",
      "    try:\n",
      "        import pydot\n",
      "    except ImportError:\n",
      "        raise ImportError(\"write_dot() requires pydot\",\n",
      "                          \"http://code.google.com/p/pydot/\")\n",
      "    P=generate_ordered_dot(N, name)\n",
      "\n",
      "    title_string = \"\\nlabelloc=\\'t\\';label=\\'%s\\';}\\n\" % name\n",
      "\n",
      "    p = P.to_string();\n",
      "    # p2 = re.sub(\"\\n\\}\\n\", \"\", p)\n",
      "    # p2 += \"\\nlabelloc=\\\"t\\\";\\n\"\n",
      "    # p2 += \"label=\\\"%s\\\";\\n}\\n\" % name\n",
      "    \n",
      "    with open(path, 'wb') as pathfile:\n",
      "        pathfile.write(p)\n",
      "    return\n",
      "\n",
      "\n",
      "\n",
      "\n",
      "def generate_ordered_dot(N, name=None):\n",
      "    \"\"\"\n",
      "    The networkx write_dot() function generates\n",
      "    \"\"\"\n",
      "    try:\n",
      "        import pydot\n",
      "    except ImportError:\n",
      "        raise ImportError('to_pydot() requires pydot: '\n",
      "                          'http://code.google.com/p/pydot/')\n",
      "\n",
      "    # set Graphviz graph type\n",
      "    if N.is_directed():\n",
      "        graph_type='digraph'\n",
      "    else:\n",
      "        graph_type='graph'\n",
      "    strict=N.number_of_selfloops()==0 and not N.is_multigraph()\n",
      "\n",
      "    node_attrs = dict()\n",
      "    node_attrs[\"shape\"] = \"circle\"\n",
      "    node_attrs[\"width\"] = \"0.3\"\n",
      "    node_attrs[\"height\"] = \"0.3\"\n",
      "    node_attrs[\"label\"] = \"\"\n",
      "    #node_attrs[\"fixedsize\"] = \"true\"\n",
      "    node_attrs[\"style\"] = \"filled\"\n",
      "\n",
      "    graph_defaults=N.graph.get('graph',{})\n",
      "    graph_defaults[\"ratio\"] = \"auto\"\n",
      "    graph_defaults[\"labelloc\"] = \"b\"\n",
      "    graph_defaults[\"label\"] = name\n",
      "    graph_defaults[\"pad\"] = \"1.0\"\n",
      "\n",
      "\n",
      "    if name is None:\n",
      "        P = pydot.Dot(graph_type=graph_type,strict=strict,**graph_defaults)\n",
      "    else:\n",
      "        P = pydot.Dot('\"%s\"'%name,graph_type=graph_type,strict=strict,\n",
      "                      **graph_defaults)\n",
      "    try:\n",
      "        P.set_node_defaults(**node_attrs)\n",
      "    except KeyError:\n",
      "        pass\n",
      "    try:\n",
      "        P.set_edge_defaults(**N.graph['edge'])\n",
      "    except KeyError:\n",
      "        pass\n",
      "\n",
      "    for n,nodedata in sorted(N.nodes_iter(data=True), key=lambda n: int(n[0])):\n",
      "        str_nodedata=dict((k,make_str(v)) for k,v in nodedata.items())\n",
      "        \n",
      "        if \"name\" in str_nodedata:\n",
      "            del str_nodedata['name']\n",
      "        \n",
      "        print \"str_nodedata: %s\" % str_nodedata\n",
      "        p=pydot.Node(make_str(n),**str_nodedata)\n",
      "        P.add_node(p)\n",
      "\n",
      "    if N.is_multigraph():\n",
      "        for u,v,key,edgedata in N.edges_iter(data=True,keys=True):\n",
      "            str_edgedata=dict((k,make_str(v)) for k,v in edgedata.items())\n",
      "            edge=pydot.Edge(make_str(u),make_str(v),key=make_str(key),**str_edgedata)\n",
      "            P.add_edge(edge)\n",
      "\n",
      "    else:\n",
      "\n",
      "\n",
      "\n",
      "        for u,v,edgedata in sorted(N.edges_iter(data=True), key=lambda u: int(u[0]) ):\n",
      "            str_edgedata=dict((k,make_str(v)) for k,v in edgedata.items())\n",
      "            if int(v) < int(u):\n",
      "                edge = pydot.Edge(make_str(v),make_str(u),**str_edgedata)\n",
      "            else:\n",
      "                edge=pydot.Edge(make_str(u),make_str(v),**str_edgedata)\n",
      "            P.add_edge(edge)\n",
      "    return P\n"
     ],
     "language": "python",
     "metadata": {},
     "outputs": [],
     "prompt_number": 85
    },
    {
     "cell_type": "code",
     "collapsed": false,
     "input": [
      "write_ordered_dot(g, \"/Users/mark/tmp/test.dot\")"
     ],
     "language": "python",
     "metadata": {},
     "outputs": [
      {
       "output_type": "stream",
       "stream": "stdout",
       "text": [
        "str_nodedata: {'xCoordinate': u'49.0', 'appears_in_slice': u'15', 'yCoordinate': u'31.0', 'level': u'child', 'label': u'assemblage-31-49', 'child_of': u'assemblage-34-37', 'parent_node': u'assemblage-34-37', 'id': u'0', 'size': u'312.263661735'}\n",
        "str_nodedata: {'xCoordinate': u'34.0', 'appears_in_slice': u'12', 'yCoordinate': u'6.0', 'level': u'grandchild', 'label': u'assemblage-6-34', 'child_of': u'assemblage-23-47', 'parent_node': u'assemblage-60-3', 'id': u'1', 'size': u'342.678102186'}\n",
        "str_nodedata: {'xCoordinate': u'14.0', 'appears_in_slice': u'15', 'yCoordinate': u'22.0', 'level': u'grandchild', 'label': u'assemblage-22-14', 'child_of': u'assemblage-64-39', 'parent_node': u'assemblage-45-49', 'id': u'2', 'size': u'312.263661735'}\n",
        "str_nodedata: {'xCoordinate': u'68.0', 'appears_in_slice': u'15', 'yCoordinate': u'34.0', 'level': u'grandchild', 'label': u'assemblage-34-68', 'child_of': u'assemblage-23-55', 'parent_node': u'assemblage-28-29', 'id': u'3', 'size': u'312.263661735'}\n",
        "str_nodedata: {'xCoordinate': u'41.0', 'appears_in_slice': u'4', 'yCoordinate': u'30.0', 'level': u'grandchild', 'label': u'assemblage-30-41', 'child_of': u'assemblage-23-55', 'parent_node': u'assemblage-63-56', 'id': u'4', 'size': u'619.755402642'}\n",
        "str_nodedata: {'xCoordinate': u'19.0', 'appears_in_slice': u'3', 'yCoordinate': u'8.0', 'level': u'child', 'label': u'assemblage-8-19', 'child_of': u'assemblage-57-46', 'parent_node': u'assemblage-57-46', 'id': u'5', 'size': u'668.278670854'}\n",
        "str_nodedata: {'xCoordinate': u'70.0', 'appears_in_slice': u'7', 'yCoordinate': u'53.0', 'level': u'grandchild', 'label': u'assemblage-53-70', 'child_of': u'assemblage-64-39', 'parent_node': u'assemblage-68-63', 'id': u'6', 'size': u'1482.31068176'}\n",
        "str_nodedata: {'xCoordinate': u'55.0', 'appears_in_slice': u'8', 'yCoordinate': u'66.0', 'level': u'grandchild', 'label': u'assemblage-66-55', 'child_of': u'assemblage-64-39', 'parent_node': u'assemblage-60-48', 'id': u'7', 'size': u'255.909549086'}\n",
        "str_nodedata: {'xCoordinate': u'63.0', 'appears_in_slice': u'7', 'yCoordinate': u'70.0', 'level': u'grandchild', 'label': u'assemblage-70-63', 'child_of': u'assemblage-64-39', 'parent_node': u'assemblage-68-63', 'id': u'8', 'size': u'280.791707695'}\n",
        "str_nodedata: {'xCoordinate': u'12.0', 'appears_in_slice': u'4', 'yCoordinate': u'35.0', 'level': u'grandchild', 'label': u'assemblage-35-12', 'child_of': u'assemblage-23-47', 'parent_node': u'assemblage-34-7', 'id': u'9', 'size': u'283.247586364'}\n",
        "str_nodedata: {'xCoordinate': u'17.0', 'appears_in_slice': u'6', 'yCoordinate': u'62.0', 'level': u'grandchild', 'label': u'assemblage-62-17', 'child_of': u'assemblage-23-55', 'parent_node': u'assemblage-38-25', 'id': u'10', 'size': u'312.324840208'}\n",
        "str_nodedata: {'xCoordinate': u'22.0', 'appears_in_slice': u'3', 'yCoordinate': u'50.0', 'level': u'grandchild', 'label': u'assemblage-50-22', 'child_of': u'assemblage-64-39', 'parent_node': u'assemblage-68-51', 'id': u'11', 'size': u'385.03108449'}\n",
        "str_nodedata: {'xCoordinate': u'58.0', 'appears_in_slice': u'4', 'yCoordinate': u'65.0', 'level': u'child', 'label': u'assemblage-65-58', 'child_of': u'assemblage-58-16', 'parent_node': u'assemblage-58-16', 'id': u'12', 'size': u'932.080242849'}\n",
        "str_nodedata: {'xCoordinate': u'27.0', 'appears_in_slice': u'6', 'yCoordinate': u'36.0', 'level': u'child', 'label': u'assemblage-36-27', 'child_of': u'assemblage-10-43', 'parent_node': u'assemblage-10-43', 'id': u'13', 'size': u'593.116547903'}\n",
        "str_nodedata: {'xCoordinate': u'33.0', 'appears_in_slice': u'2', 'yCoordinate': u'52.0', 'level': u'child', 'label': u'assemblage-52-33', 'child_of': u'assemblage-57-46', 'parent_node': u'assemblage-57-46', 'id': u'14', 'size': u'407.684598757'}\n"
       ]
      }
     ],
     "prompt_number": 24
    },
    {
     "cell_type": "code",
     "collapsed": false,
     "input": [
      "def build_colormap_for_nodes(input_graph, scheme):\n",
      "    \"\"\"\n",
      "    Iterates over the nodes in a graph, looking for 'level' attributes.  For \n",
      "    each child, picks a color and caches it, and a color for the root.  Then, assigns\n",
      "    grandchildren the color of their 'child_of' attribute.  Adds the 'color' attribute\n",
      "    to each node in the NetworkX graph, and then returns the graph.\n",
      "    \"\"\"\n",
      "    \n",
      "    # make a copy so we don't touch the original graph, we'll return a new one\n",
      "    g = input_graph.copy()\n",
      "    \n",
      "    color_cache = dict()\n",
      "    color_list = range(1, 11) # rdylgn11 brewer scheme in graphviz\n",
      "    root_color = color_list.pop()\n",
      "    \n",
      "    # figure out penwidth scaling\n",
      "    slice_ids = []\n",
      "    for node, data in g.nodes_iter(data=True):\n",
      "        slice_ids.append(g.node[node]['appears_in_slice'])\n",
      "    \n",
      "    max_slice = max(slice_ids)\n",
      "    max_penwidth = 5.0\n",
      "    \n",
      "    \n",
      "    \n",
      "    \n",
      "    # grandchildren might point their child_of attribute at a node which is not present\n",
      "    # in this minmax graph given that we're operating with a sample of assemblages.  \n",
      "    # So when we find a child_of that's not represented in the \n",
      "    for node, data in g.nodes_iter(data=True):\n",
      "        \n",
      "        lab = g.node[node]['label']\n",
      "        short_label = lab.replace('assemblage-','')\n",
      "        #del g.node[node]['label']\n",
      "        g.node[node]['short_label']= short_label\n",
      "        \n",
      "        g.node[node]['colorscheme'] = scheme\n",
      "        g.node[node]['penwidth'] = (float(g.node[node]['appears_in_slice']) / max_slice) * max_penwidth\n",
      "        \n",
      "        if g.node[node]['level'] == 'root':\n",
      "            g.node[node]['fillcolor'] = root_color\n",
      "            color_cache[node] = root_color\n",
      "            g.node[node]['shape'] = 'square'\n",
      "        elif g.node[node]['level'] == 'child':\n",
      "            name = g.node[node]['label']\n",
      "            g.node[node]['shape'] = 'diamond'\n",
      "            if name not in color_cache:\n",
      "                color = color_list.pop()\n",
      "                g.node[node]['fillcolor'] = color\n",
      "                color_cache[name] = color\n",
      "            else:\n",
      "                color = color_cache[name]\n",
      "                g.node[node]['fillcolor'] = color\n",
      "        elif g.node[node]['level'] == 'grandchild':\n",
      "            parent = g.node[node]['child_of']\n",
      "            g.node[node]['shape'] = 'circle'\n",
      "            if parent not in color_cache:\n",
      "                color = color_list.pop()\n",
      "                color_cache[parent] = color\n",
      "                g.node[node]['fillcolor'] = color\n",
      "            else:\n",
      "                color = color_cache[parent]\n",
      "                g.node[node]['fillcolor'] = color\n",
      "\n",
      "    for node, data in g.nodes_iter(data=True):\n",
      "        g.node[node]['label'] = g.node[node]['short_label']\n",
      "                \n",
      "            \n",
      "    #print \"color_cache: %s\" % color_cache\n",
      "    \n",
      "            \n",
      "    return g"
     ],
     "language": "python",
     "metadata": {},
     "outputs": [],
     "prompt_number": 120
    },
    {
     "cell_type": "code",
     "collapsed": false,
     "input": [
      "gcolor = build_colormap_for_nodes(g, 'rdylgn11')"
     ],
     "language": "python",
     "metadata": {},
     "outputs": [],
     "prompt_number": 121
    },
    {
     "cell_type": "code",
     "collapsed": false,
     "input": [
      "write_ordered_dot(gcolor, \"/Users/mark/tmp/test.dot\")"
     ],
     "language": "python",
     "metadata": {},
     "outputs": [
      {
       "output_type": "stream",
       "stream": "stdout",
       "text": [
        "str_nodedata: {'xCoordinate': u'49.0', 'appears_in_slice': u'15', 'yCoordinate': u'31.0', 'colorscheme': u'rdylgn11', 'level': u'child', 'child_of': u'assemblage-34-37', 'short_label': u'31-49', 'label': u'31-49', 'shape': u'diamond', 'fillcolor': u'9', 'size': u'312.263661735', 'parent_node': u'assemblage-34-37', 'id': u'0', 'penwidth': u'1.5'}\n",
        "str_nodedata: {'xCoordinate': u'34.0', 'appears_in_slice': u'12', 'yCoordinate': u'6.0', 'colorscheme': u'rdylgn11', 'level': u'grandchild', 'child_of': u'assemblage-23-47', 'short_label': u'6-34', 'label': u'6-34', 'shape': u'circle', 'fillcolor': u'8', 'size': u'342.678102186', 'parent_node': u'assemblage-60-3', 'id': u'1', 'penwidth': u'1.2'}\n",
        "str_nodedata: {'xCoordinate': u'14.0', 'appears_in_slice': u'15', 'yCoordinate': u'22.0', 'colorscheme': u'rdylgn11', 'level': u'grandchild', 'child_of': u'assemblage-64-39', 'short_label': u'22-14', 'label': u'22-14', 'shape': u'circle', 'fillcolor': u'7', 'size': u'312.263661735', 'parent_node': u'assemblage-45-49', 'id': u'2', 'penwidth': u'1.5'}\n",
        "str_nodedata: {'xCoordinate': u'68.0', 'appears_in_slice': u'15', 'yCoordinate': u'34.0', 'colorscheme': u'rdylgn11', 'level': u'grandchild', 'child_of': u'assemblage-23-55', 'short_label': u'34-68', 'label': u'34-68', 'shape': u'circle', 'fillcolor': u'6', 'size': u'312.263661735', 'parent_node': u'assemblage-28-29', 'id': u'3', 'penwidth': u'1.5'}\n",
        "str_nodedata: {'xCoordinate': u'41.0', 'appears_in_slice': u'4', 'yCoordinate': u'30.0', 'colorscheme': u'rdylgn11', 'level': u'grandchild', 'child_of': u'assemblage-23-55', 'short_label': u'30-41', 'label': u'30-41', 'shape': u'circle', 'fillcolor': u'6', 'size': u'619.755402642', 'parent_node': u'assemblage-63-56', 'id': u'4', 'penwidth': u'0.4'}\n",
        "str_nodedata: {'xCoordinate': u'19.0', 'appears_in_slice': u'3', 'yCoordinate': u'8.0', 'colorscheme': u'rdylgn11', 'level': u'child', 'child_of': u'assemblage-57-46', 'short_label': u'8-19', 'label': u'8-19', 'shape': u'diamond', 'fillcolor': u'5', 'size': u'668.278670854', 'parent_node': u'assemblage-57-46', 'id': u'5', 'penwidth': u'0.3'}\n",
        "str_nodedata: {'xCoordinate': u'70.0', 'appears_in_slice': u'7', 'yCoordinate': u'53.0', 'colorscheme': u'rdylgn11', 'level': u'grandchild', 'child_of': u'assemblage-64-39', 'short_label': u'53-70', 'label': u'53-70', 'shape': u'circle', 'fillcolor': u'7', 'size': u'1482.31068176', 'parent_node': u'assemblage-68-63', 'id': u'6', 'penwidth': u'0.7'}\n",
        "str_nodedata: {'xCoordinate': u'55.0', 'appears_in_slice': u'8', 'yCoordinate': u'66.0', 'colorscheme': u'rdylgn11', 'level': u'grandchild', 'child_of': u'assemblage-64-39', 'short_label': u'66-55', 'label': u'66-55', 'shape': u'circle', 'fillcolor': u'7', 'size': u'255.909549086', 'parent_node': u'assemblage-60-48', 'id': u'7', 'penwidth': u'0.8'}\n",
        "str_nodedata: {'xCoordinate': u'63.0', 'appears_in_slice': u'7', 'yCoordinate': u'70.0', 'colorscheme': u'rdylgn11', 'level': u'grandchild', 'child_of': u'assemblage-64-39', 'short_label': u'70-63', 'label': u'70-63', 'shape': u'circle', 'fillcolor': u'7', 'size': u'280.791707695', 'parent_node': u'assemblage-68-63', 'id': u'8', 'penwidth': u'0.7'}\n",
        "str_nodedata: {'xCoordinate': u'12.0', 'appears_in_slice': u'4', 'yCoordinate': u'35.0', 'colorscheme': u'rdylgn11', 'level': u'grandchild', 'child_of': u'assemblage-23-47', 'short_label': u'35-12', 'label': u'35-12', 'shape': u'circle', 'fillcolor': u'8', 'size': u'283.247586364', 'parent_node': u'assemblage-34-7', 'id': u'9', 'penwidth': u'0.4'}\n",
        "str_nodedata: {'xCoordinate': u'17.0', 'appears_in_slice': u'6', 'yCoordinate': u'62.0', 'colorscheme': u'rdylgn11', 'level': u'grandchild', 'child_of': u'assemblage-23-55', 'short_label': u'62-17', 'label': u'62-17', 'shape': u'circle', 'fillcolor': u'6', 'size': u'312.324840208', 'parent_node': u'assemblage-38-25', 'id': u'10', 'penwidth': u'0.6'}\n",
        "str_nodedata: {'xCoordinate': u'22.0', 'appears_in_slice': u'3', 'yCoordinate': u'50.0', 'colorscheme': u'rdylgn11', 'level': u'grandchild', 'child_of': u'assemblage-64-39', 'short_label': u'50-22', 'label': u'50-22', 'shape': u'circle', 'fillcolor': u'7', 'size': u'385.03108449', 'parent_node': u'assemblage-68-51', 'id': u'11', 'penwidth': u'0.3'}\n",
        "str_nodedata: {'xCoordinate': u'58.0', 'appears_in_slice': u'4', 'yCoordinate': u'65.0', 'colorscheme': u'rdylgn11', 'level': u'child', 'child_of': u'assemblage-58-16', 'short_label': u'65-58', 'label': u'65-58', 'shape': u'diamond', 'fillcolor': u'4', 'size': u'932.080242849', 'parent_node': u'assemblage-58-16', 'id': u'12', 'penwidth': u'0.4'}\n",
        "str_nodedata: {'xCoordinate': u'27.0', 'appears_in_slice': u'6', 'yCoordinate': u'36.0', 'colorscheme': u'rdylgn11', 'level': u'child', 'child_of': u'assemblage-10-43', 'short_label': u'36-27', 'label': u'36-27', 'shape': u'diamond', 'fillcolor': u'3', 'size': u'593.116547903', 'parent_node': u'assemblage-10-43', 'id': u'13', 'penwidth': u'0.6'}\n",
        "str_nodedata: {'xCoordinate': u'33.0', 'appears_in_slice': u'2', 'yCoordinate': u'52.0', 'colorscheme': u'rdylgn11', 'level': u'child', 'child_of': u'assemblage-57-46', 'short_label': u'52-33', 'label': u'52-33', 'shape': u'diamond', 'fillcolor': u'2', 'size': u'407.684598757', 'parent_node': u'assemblage-57-46', 'id': u'14', 'penwidth': u'0.2'}\n"
       ]
      }
     ],
     "prompt_number": 122
    },
    {
     "cell_type": "code",
     "collapsed": false,
     "input": [],
     "language": "python",
     "metadata": {},
     "outputs": []
    }
   ],
   "metadata": {}
  }
 ]
}