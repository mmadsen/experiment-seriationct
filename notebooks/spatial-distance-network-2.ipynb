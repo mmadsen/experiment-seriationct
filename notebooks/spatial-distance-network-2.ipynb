{
 "metadata": {
  "name": "",
  "signature": "sha256:a9d54f49b58c43e680fb2f70d4650bd9314565800b65201ac1900ed2abeea4de"
 },
 "nbformat": 3,
 "nbformat_minor": 0,
 "worksheets": [
  {
   "cells": [
    {
     "cell_type": "code",
     "collapsed": false,
     "input": [
      "import networkx as nx\n",
      "import numpy as np\n",
      "import logging as log\n",
      "import itertools\n",
      "import random\n",
      "import math\n",
      "import pprint as pp\n",
      "import matplotlib.pyplot as plt\n",
      "log.basicConfig(level=log.DEBUG, format='%(asctime)s %(levelname)s: %(message)s')"
     ],
     "language": "python",
     "metadata": {},
     "outputs": [
      {
       "output_type": "stream",
       "stream": "stdout",
       "text": [
        "Couldn't import dot_parser, loading of dot files will not be possible.\n"
       ]
      }
     ],
     "prompt_number": 1
    },
    {
     "cell_type": "code",
     "collapsed": false,
     "input": [
      "slattice = nx."
     ],
     "language": "python",
     "metadata": {},
     "outputs": []
    }
   ],
   "metadata": {}
  }
 ]
}